{
 "cells": [
  {
   "cell_type": "code",
   "execution_count": 1,
   "id": "3ce78f90-70b7-4d3b-a0b8-de8669ba2509",
   "metadata": {},
   "outputs": [],
   "source": [
    "####Statistics Basic-1"
   ]
  },
  {
   "cell_type": "markdown",
   "id": "00083d70-7d7b-4347-9e8f-64cd0525959e",
   "metadata": {},
   "source": [
    "**Q1. What is Statistics?**"
   ]
  },
  {
   "cell_type": "markdown",
   "id": "d9530fff-715e-4a9b-b3dc-131cd56452c0",
   "metadata": {},
   "source": [
    "STATISTICS IS COLLECTING,ANALYSIS THE GIVEN DATA"
   ]
  },
  {
   "cell_type": "markdown",
   "id": "a9f5f7b5-56ef-4512-8614-14d31ed8f2be",
   "metadata": {},
   "source": [
    "***Q2. Define the different types of statistics and give an example of when each type might be used.***"
   ]
  },
  {
   "cell_type": "markdown",
   "id": "e004905d-53b5-4678-b393-6f09d2af5b88",
   "metadata": {},
   "source": [
    "i)DESCRIPTIVE STATISTICS\n",
    "example:- measure of central tendency,measure of dispersion\n",
    "ii)INFENCIAL STATISTICS\n",
    "EXAMPLE:-z-test,t-test"
   ]
  },
  {
   "cell_type": "markdown",
   "id": "35beb61f-c0d8-4cc1-8374-dae88f6de091",
   "metadata": {},
   "source": [
    "***Q3. What are the different types of data and how do they differ from each other? Provide an example of\n",
    "each type of data.***"
   ]
  },
  {
   "cell_type": "markdown",
   "id": "a338ba0e-2e3d-40d4-9986-6c5074f66136",
   "metadata": {},
   "source": [
    "i)quantitative:-this are whole numbers or floating numbersor numerical data .example:-height,temperature\n",
    "\n",
    "\n",
    "ii)qualitative:-this are based on categorical data like:-blood group,gender(male or female)\n",
    "\n"
   ]
  },
  {
   "cell_type": "markdown",
   "id": "0a0f6cee-e766-48da-b859-e7a15ab9f108",
   "metadata": {},
   "source": [
    "**Q4. Categorise the following datasets with respect to quantitative and qualitative data types:\n",
    "(i) Grading in exam: A+, A, B+, B, C+, C, D, E\n",
    "(ii) Colour of mangoes: yellow, green, orange, red\n",
    "(iii) Height data of a class: [178.9, 179, 179.5, 176, 177.2, 178.3, 175.8,...]\n",
    "(iv) Number of mangoes exported by a farm: [500, 600, 478, 672, ...]**"
   ]
  },
  {
   "cell_type": "markdown",
   "id": "75ddf13b-f2b2-4fea-834f-2e15554e4667",
   "metadata": {},
   "source": [
    "(i) Grading in exam: A+, A, B+, B, C+, C, D, E ==ORDINAL\n",
    "(ii) Colour of mangoes: yellow, green, orange, red ==NOMINAL\n",
    "iii) Height data of a class: [178.9, 179, 179.5, 176, 177.2, 178.3, 175.8,...] ==CONTINIOUS\n",
    "iv) Number of mangoes exported by a farm: [500, 600, 478, 672, ...]==DISCRETE\n",
    "\n"
   ]
  },
  {
   "cell_type": "markdown",
   "id": "c117e1b9-496b-41ba-87ee-203bbbf4aa5e",
   "metadata": {},
   "source": [
    "**Q5. Explain the concept of levels of measurement and give an example of a variable for each level.**"
   ]
  },
  {
   "cell_type": "markdown",
   "id": "dd7e169e-c406-4cbf-8c00-bfd850380ef2",
   "metadata": {},
   "source": [
    "THERE ARE 4 TYPES OF LEVEL OF MEASUREMENT\n",
    "I)NOMINAL SCALE DATA,LIKE -: GENDER,FAVOURITE COLOR,HABIL\n",
    "II)ORDINAL SCALE DATA,\n",
    "III)INTERNAL SCALE DATA,LIKE:-TEMPERATURE\n",
    "IV)RATIO SCALE DATALIKE:-NO OF STUDENTS IN A CLASS"
   ]
  },
  {
   "cell_type": "markdown",
   "id": "cbca0020-9b57-4721-bd41-7d659f46c1d5",
   "metadata": {},
   "source": [
    "***Q7. How nominal data type is different from ordinal data type.***"
   ]
  },
  {
   "cell_type": "markdown",
   "id": "97f4e5ff-b4a9-4970-bcba-c558cee233a4",
   "metadata": {},
   "source": [
    "in nominal data ***order doesnt matter***\n",
    "\n",
    "\n",
    "\n",
    "in ordinal data ***order matters***"
   ]
  },
  {
   "cell_type": "markdown",
   "id": "5b607384-0945-4c65-bc96-a8c0336c0b61",
   "metadata": {},
   "source": [
    "***Q8. Which type of plot can be used to display data in terms of range?***"
   ]
  },
  {
   "cell_type": "markdown",
   "id": "ff2f07ac-04c2-48d1-8355-abd7edb38256",
   "metadata": {},
   "source": [
    "histogram"
   ]
  },
  {
   "cell_type": "markdown",
   "id": "1b0a2302-fcec-497f-83e0-99d5b97a2a5c",
   "metadata": {},
   "source": [
    "***Q9. Describe the difference between descriptive and inferential statistics. Give an example of each\n",
    "type of statistics and explain how they are used.***"
   ]
  },
  {
   "cell_type": "markdown",
   "id": "e49794cb-d574-42e7-acf9-e00a32fa17aa",
   "metadata": {},
   "source": [
    "descriptive=organising and summerizing the data\n",
    "example:average height of a student in classroom from a sample data set\n",
    "\n",
    "\n",
    "\n",
    "inferential==using your data you have to form conclusion\n",
    "example:are the average height is similar tp what the user expecting"
   ]
  },
  {
   "cell_type": "markdown",
   "id": "8d94eaab-5a80-4559-a032-ac48c3410429",
   "metadata": {},
   "source": [
    "***Q10. What are some common measures of central tendency and variability used in statistics? Explain\n",
    "how each measure can be used to describe a dataset.***"
   ]
  },
  {
   "cell_type": "code",
   "execution_count": null,
   "id": "46faa388-727b-40c8-8111-a94452d4a520",
   "metadata": {},
   "outputs": [],
   "source": []
  }
 ],
 "metadata": {
  "kernelspec": {
   "display_name": "Python 3 (ipykernel)",
   "language": "python",
   "name": "python3"
  },
  "language_info": {
   "codemirror_mode": {
    "name": "ipython",
    "version": 3
   },
   "file_extension": ".py",
   "mimetype": "text/x-python",
   "name": "python",
   "nbconvert_exporter": "python",
   "pygments_lexer": "ipython3",
   "version": "3.10.8"
  }
 },
 "nbformat": 4,
 "nbformat_minor": 5
}
